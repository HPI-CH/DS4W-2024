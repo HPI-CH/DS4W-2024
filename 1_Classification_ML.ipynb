{
 "cells": [
  {
   "cell_type": "code",
   "execution_count": 6,
   "metadata": {},
   "outputs": [],
   "source": [
    "import pandas as pd\n",
    "from sklearn.model_selection import train_test_split\n",
    "from sklearn.ensemble import RandomForestClassifier\n",
    "from sklearn.metrics import accuracy_score\n",
    "import os"
   ]
  },
  {
   "cell_type": "code",
   "execution_count": 10,
   "metadata": {},
   "outputs": [],
   "source": [
    "def download_file(url, file_name):\n",
    "    if not os.path.exists(file_name):\n",
    "        !wget {url} -O {file_name}\n",
    "\n",
    "# Paths for local files\n",
    "local_train_path = './Datasets/UCI_HAR/train.csv'\n",
    "local_test_path = './Datasets/UCI_HAR/test.csv'\n",
    "\n",
    "# URLs for the dataset\n",
    "train_url = 'https://raw.githubusercontent.com/HPI-CH/DS4W-2024/main/Datasets/UCI_HAR/train.csv'\n",
    "test_url = 'https://raw.githubusercontent.com/HPI-CH/DS4W-2024/main/Datasets/UCI_HAR/test.csv'\n",
    "\n",
    "# Check and load the train dataset\n",
    "if os.path.exists(local_train_path):\n",
    "    train = pd.read_csv(local_train_path)\n",
    "else:\n",
    "    download_file(train_url, 'train.csv')\n",
    "    train = pd.read_csv('train.csv')\n",
    "\n",
    "# Check and load the test dataset\n",
    "if os.path.exists(local_test_path):\n",
    "    test = pd.read_csv(local_test_path)\n",
    "else:\n",
    "    download_file(test_url, 'test.csv')\n",
    "    test = pd.read_csv('test.csv')"
   ]
  },
  {
   "cell_type": "code",
   "execution_count": null,
   "metadata": {},
   "outputs": [],
   "source": [
    "# Load the dataset (replace with the correct file paths)\n",
    "path = './Datasets/UCI_HAR/'\n",
    "X_train = pd.read_csv(path + 'train/X_train.txt', delim_whitespace=True, header=None)\n",
    "y_train = pd.read_csv(path + 'train/y_train.txt', delim_whitespace=True, header=None).squeeze()\n",
    "X_test = pd.read_csv(path + 'test/X_test.txt', delim_whitespace=True, header=None)\n",
    "y_test = pd.read_csv(path + 'test/y_test.txt', delim_whitespace=True, header=None).squeeze()\n",
    "\n",
    "# Train a Random Forest classifier\n",
    "clf = RandomForestClassifier(n_estimators=100)\n",
    "clf.fit(X_train, y_train)\n",
    "\n",
    "# Predict on test data\n",
    "y_pred = clf.predict(X_test)\n",
    "\n",
    "# Evaluate the classifier\n",
    "accuracy = accuracy_score(y_test, y_pred)\n",
    "print(f'Accuracy: {accuracy}')"
   ]
  }
 ],
 "metadata": {
  "kernelspec": {
   "display_name": "note",
   "language": "python",
   "name": "python3"
  },
  "language_info": {
   "codemirror_mode": {
    "name": "ipython",
    "version": 3
   },
   "file_extension": ".py",
   "mimetype": "text/x-python",
   "name": "python",
   "nbconvert_exporter": "python",
   "pygments_lexer": "ipython3",
   "version": "3.9.13"
  }
 },
 "nbformat": 4,
 "nbformat_minor": 2
}
