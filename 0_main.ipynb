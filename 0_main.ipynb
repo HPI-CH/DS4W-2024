{
 "cells": [
  {
   "cell_type": "code",
   "execution_count": null,
   "metadata": {},
   "outputs": [],
   "source": [
    "[Open Notebook ML Classification](https://colab.research.google.com/github/HPI-CH/DS4W-2024/blob/main/1_Classification_ML.ipynb)"]
  }
 ],
 "metadata": {
  "language_info": {
   "name": "python"
  }
 },
 "nbformat": 4,
 "nbformat_minor": 2
}
