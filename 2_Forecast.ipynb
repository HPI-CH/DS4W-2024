{
 "cells": [
  {
   "cell_type": "markdown",
   "metadata": {},
   "source": [
    "# How to Load, Visualize, and Explore a Multivariate Multistep Time Series Dataset\n",
    "\n",
    "Source: [Machine Learning Mastery](https://machinelearningmastery.com/how-to-load-visualize-and-explore-a-complex-multivariate-multistep-time-series-forecasting-dataset/)"
   ]
  },
  {
   "cell_type": "markdown",
   "metadata": {},
   "source": [
    "## Problem Description\n",
    "\n",
    "bla bla"
   ]
  },
  {
   "cell_type": "markdown",
   "metadata": {},
   "source": [
    "## Load Packages"
   ]
  },
  {
   "cell_type": "code",
   "execution_count": 10,
   "metadata": {},
   "outputs": [],
   "source": [
    "import pandas as pd\n",
    "import numpy as np\n",
    "import matplotlib.pyplot as plt"
   ]
  },
  {
   "cell_type": "markdown",
   "metadata": {},
   "source": [
    "## Load Dataset"
   ]
  },
  {
   "cell_type": "code",
   "execution_count": 2,
   "metadata": {},
   "outputs": [],
   "source": [
    "dataset = pd.read_csv('Datasets/dsg-hackathon/TrainingData.csv', header=0)"
   ]
  },
  {
   "cell_type": "code",
   "execution_count": 3,
   "metadata": {},
   "outputs": [],
   "source": [
    "# trim and transform to floats\n",
    "values = dataset.values\n",
    "data = values[:, 6:].astype('float32')"
   ]
  },
  {
   "cell_type": "code",
   "execution_count": 7,
   "metadata": {},
   "outputs": [
    {
     "name": "stdout",
     "output_type": "stream",
     "text": [
      "Total Missing: 1922092/3366069 (57.1%)\n"
     ]
    }
   ],
   "source": [
    "# summarize amount of missing data\n",
    "total_missing = np.count_nonzero(np.isnan(data))\n",
    "percent_missing = total_missing / data.size * 100\n",
    "print('Total Missing: %d/%d (%.1f%%)' % (total_missing, data.size, percent_missing))"
   ]
  },
  {
   "cell_type": "markdown",
   "metadata": {},
   "source": [
    "## Chunk Data Structure"
   ]
  },
  {
   "cell_type": "code",
   "execution_count": 14,
   "metadata": {},
   "outputs": [
    {
     "name": "stdout",
     "output_type": "stream",
     "text": [
      "Total Chunks: 208\n"
     ]
    },
    {
     "data": {
      "image/png": "[encoded data removed]",
      "text/plain": [
       "<Figure size 640x480 with 2 Axes>"
      ]
     },
     "metadata": {},
     "output_type": "display_data"
    }
   ],
   "source": [
    "# split the dataset by 'chunkID', return a dict of id to rows\n",
    "def to_chunks(values, chunk_ix=1):\n",
    "\tchunks = dict()\n",
    "\t# get the unique chunk ids\n",
    "\tchunk_ids = np.unique(values[:, chunk_ix])\n",
    "\t# group rows by chunk id\n",
    "\tfor chunk_id in chunk_ids:\n",
    "\t\tselection = values[:, chunk_ix] == chunk_id\n",
    "\t\tchunks[chunk_id] = values[selection, :]\n",
    "\treturn chunks\n",
    "\n",
    "# plot distribution of chunk durations\n",
    "def plot_chunk_durations(chunks):\n",
    "\t# chunk durations in hours\n",
    "\tchunk_durations = [len(v) for k,v in chunks.items()]\n",
    "\t# boxplot\n",
    "\tplt.subplot(2, 1, 1)\n",
    "\tplt.boxplot(chunk_durations)\n",
    "\t# histogram\n",
    "\tplt.subplot(2, 1, 2)\n",
    "\tplt.hist(chunk_durations)\n",
    "\t# histogram\n",
    "\tplt.show()\n",
    "\n",
    "# group data by chunks\n",
    "values = dataset.values\n",
    "chunks = to_chunks(values)\n",
    "print('Total Chunks: %d' % len(chunks))\n",
    "# plot chunk durations\n",
    "plot_chunk_durations(chunks)"
   ]
  }
 ],
 "metadata": {
  "kernelspec": {
   "display_name": "note",
   "language": "python",
   "name": "python3"
  },
  "language_info": {
   "codemirror_mode": {
    "name": "ipython",
    "version": 3
   },
   "file_extension": ".py",
   "mimetype": "text/x-python",
   "name": "python",
   "nbconvert_exporter": "python",
   "pygments_lexer": "ipython3",
   "version": "3.9.13"
  }
 },
 "nbformat": 4,
 "nbformat_minor": 2
}
